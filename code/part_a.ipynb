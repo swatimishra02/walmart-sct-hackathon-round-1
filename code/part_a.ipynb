{
  "nbformat": 4,
  "nbformat_minor": 0,
  "metadata": {
    "colab": {
      "provenance": [],
      "gpuType": "T4"
    },
    "kernelspec": {
      "name": "python3",
      "display_name": "Python 3"
    },
    "language_info": {
      "name": "python"
    },
    "accelerator": "GPU"
  },
  "cells": [
    {
      "cell_type": "code",
      "execution_count": 2,
      "metadata": {
        "id": "FGQOqpnVBKxK"
      },
      "outputs": [],
      "source": [
        "import numpy as np\n",
        "import pandas as pd"
      ]
    },
    {
      "cell_type": "code",
      "source": [
        "def haversine(lat1, lon1, lat2, lon2):\n",
        "    R = 6371\n",
        "    phi1 = np.radians(lat1)\n",
        "    phi2 = np.radians(lat2)\n",
        "    delta_phi = np.radians(lat2 - lat1)\n",
        "    delta_lambda = np.radians(lon2 - lon1)\n",
        "    a = np.sin(delta_phi/2)**2 + np.cos(phi1) * np.cos(phi2) * np.sin(delta_lambda/2)**2\n",
        "    res = R * (2 * np.arctan2(np.sqrt(a), np.sqrt(1 - a)))\n",
        "    return np.round(res, 2)\n",
        "def fun(i, mask):\n",
        "        if mask == ((1 << i) | 3):\n",
        "            return adjacency_list[1][i], [1, i]\n",
        "        if memo[i][mask] != -1:\n",
        "            return memo[i][mask], path[i][mask]\n",
        "        res = 10**9\n",
        "        res_path = []\n",
        "        for j in range(1, n+1):\n",
        "            if (mask & (1 << j)) != 0 and j != i and j != 1:\n",
        "                new_res, new_path = fun(j, mask & (~(1 << i)))\n",
        "                new_res += adjacency_list[j][i]\n",
        "                if new_res < res:\n",
        "                    res = new_res\n",
        "                    res_path = new_path + [i]\n",
        "        memo[i][mask] = res\n",
        "        path[i][mask] = res_path\n",
        "        return res, res_path"
      ],
      "metadata": {
        "id": "QQ1DSg-pBOUn"
      },
      "execution_count": 3,
      "outputs": []
    },
    {
      "cell_type": "code",
      "source": [
        "for k in range(5):\n",
        "    df=pd.read_csv(f'part_a_input_dataset_{k+1}.csv')\n",
        "    starting_node = pd.DataFrame({'lng': [df[\"depot_lng\"].iloc[0]], 'lat': [df[\"depot_lat\"].iloc[0]]})\n",
        "\n",
        "    df = pd.concat([starting_node, df]).reset_index(drop=True)\n",
        "    adjacency_list = {}\n",
        "\n",
        "    for i in range(len(df)):\n",
        "        distances = []\n",
        "        for j in range(len(df)):\n",
        "            if i != j:\n",
        "                distance = haversine(df.iloc[i]['lat'], df.iloc[i]['lng'], df.iloc[j]['lat'], df.iloc[j]['lng'])\n",
        "                distances.append(distance)\n",
        "            else:\n",
        "                distances.append(0)\n",
        "        adjacency_list[i] = distances\n",
        "\n",
        "    n=len(adjacency_list)-1\n",
        "    memo = [[-1]*(1 << (n+1)) for _ in range(n+1)]\n",
        "    path = [[[] for _ in range(1 << (n+1))] for _ in range(n+1)]\n",
        "    ans = 10**9\n",
        "    ans_path = []\n",
        "    for i in range(1, n+1):\n",
        "        new_ans, new_path = fun(i, (1 << (n+1))-1)\n",
        "        new_ans += adjacency_list[i][1]\n",
        "        if new_ans < ans:\n",
        "            ans = new_ans\n",
        "            ans_path = new_path + [1]\n",
        "    print(f\"For dataset {k+1}\")\n",
        "    print(\"The cost of most efficient tour = \" + str(ans))\n",
        "    print(\"The sequence of delivery is: \" + str(ans_path)+\"\\n\\n\")"
      ],
      "metadata": {
        "colab": {
          "base_uri": "https://localhost:8080/"
        },
        "id": "mNxVeyRBBYY5",
        "outputId": "b3960a22-dc01-40eb-d0bc-7c1c2840fa44"
      },
      "execution_count": null,
      "outputs": [
        {
          "output_type": "stream",
          "name": "stdout",
          "text": [
            "For dataset 1\n",
            "The cost of most efficient tour = 4.17\n",
            "The sequence of delivery is: [1, 3, 4, 5, 2, 1]\n",
            "\n",
            "\n",
            "For dataset 2\n",
            "The cost of most efficient tour = 9.64\n",
            "The sequence of delivery is: [1, 6, 2, 7, 8, 5, 10, 9, 4, 3, 1]\n",
            "\n",
            "\n",
            "For dataset 3\n",
            "The cost of most efficient tour = 18.65\n",
            "The sequence of delivery is: [1, 11, 6, 13, 15, 3, 4, 9, 12, 10, 5, 8, 14, 7, 2, 1]\n",
            "\n",
            "\n",
            "For dataset 4\n",
            "The cost of most efficient tour = 21.11\n",
            "The sequence of delivery is: [1, 17, 3, 4, 5, 8, 10, 12, 9, 19, 15, 16, 18, 13, 6, 11, 2, 20, 7, 14, 1]\n",
            "\n",
            "\n"
          ]
        }
      ]
    },
    {
      "cell_type": "code",
      "source": [
        "df=pd.read_csv('part_a_input_dataset_5.csv')\n",
        "starting_node = pd.DataFrame({'lng': [df[\"depot_lng\"].iloc[0]], 'lat': [df[\"depot_lat\"].iloc[0]]})\n",
        "\n",
        "df = pd.concat([starting_node, df]).reset_index(drop=True)\n",
        "adjacency_list = {}\n",
        "\n",
        "for i in range(len(df)):\n",
        "    distances = []\n",
        "    for j in range(len(df)):\n",
        "        if i != j:\n",
        "            distance = haversine(df.iloc[i]['lat'], df.iloc[i]['lng'], df.iloc[j]['lat'], df.iloc[j]['lng'])\n",
        "            distances.append(distance)\n",
        "        else:\n",
        "            distances.append(0)\n",
        "    adjacency_list[i] = distances\n",
        "\n",
        "n=len(adjacency_list)-1\n",
        "memo = [[-1]*(1 << (n+1)) for _ in range(n+1)]\n",
        "path = [[[] for _ in range(1 << (n+1))] for _ in range(n+1)]\n",
        "ans = 10**9\n",
        "ans_path = []\n",
        "for i in range(1, n+1):\n",
        "    new_ans, new_path = fun(i, (1 << (n+1))-1)\n",
        "    new_ans += adjacency_list[i][1]\n",
        "    if new_ans < ans:\n",
        "        ans = new_ans\n",
        "        ans_path = new_path + [1]\n",
        "print(f\"For dataset {k+1}\")\n",
        "print(\"The cost of most efficient tour = \" + str(ans))\n",
        "print(\"The sequence of delivery is: \" + str(ans_path)+\"\\n\\n\")"
      ],
      "metadata": {
        "id": "cmQoAks1BmTU"
      },
      "execution_count": null,
      "outputs": []
    },
    {
      "cell_type": "code",
      "source": [],
      "metadata": {
        "id": "5f0a2x_RCjDB"
      },
      "execution_count": null,
      "outputs": []
    },
    {
      "cell_type": "code",
      "source": [],
      "metadata": {
        "id": "Tz0EdHYJGoUc"
      },
      "execution_count": null,
      "outputs": []
    },
    {
      "cell_type": "code",
      "source": [],
      "metadata": {
        "id": "3Mv0hLl0Gohu"
      },
      "execution_count": null,
      "outputs": []
    },
    {
      "cell_type": "code",
      "source": [
        "df=pd.read_csv(f'part_a_input_dataset_1.csv')\n",
        "starting_node = pd.DataFrame({'lng': [df[\"depot_lng\"].iloc[0]], 'lat': [df[\"depot_lat\"].iloc[0]]})\n",
        "\n",
        "df = pd.concat([starting_node, df]).reset_index(drop=True)\n",
        "adjacency_list = {}\n",
        "\n",
        "for i in range(len(df)):\n",
        "    distances = []\n",
        "    for j in range(len(df)):\n",
        "        if i != j:\n",
        "            distance = haversine(df.iloc[i]['lat'], df.iloc[i]['lng'], df.iloc[j]['lat'], df.iloc[j]['lng'])\n",
        "            distances.append(distance)\n",
        "        else:\n",
        "            distances.append(0)\n",
        "    adjacency_list[i] = distances\n",
        "\n",
        "n=len(adjacency_list)-1\n",
        "memo = [[-1]*(1 << (n+1)) for _ in range(n+1)]\n",
        "path = [[[] for _ in range(1 << (n+1))] for _ in range(n+1)]\n",
        "ans = 10**9\n",
        "ans_path = []\n",
        "for i in range(1, n+1):\n",
        "    new_ans, new_path = fun(i, (1 << (n+1))-1)\n",
        "    new_ans += adjacency_list[i][1]\n",
        "    if new_ans < ans:\n",
        "        ans = new_ans\n",
        "        ans_path = new_path + [1]\n",
        "# print(f\"For dataset {k+1}\")\n",
        "# print(\"The cost of most efficient tour = \", ans)\n",
        "# print(\"The sequence of delivery is: \" + str(ans_path)+\"\\n\\n\")\n",
        "ans_path_order_ids = df['order_id'].iloc[ans_path].tolist()\n",
        "order_id_sequence = {order_id: index-1 for index, order_id in enumerate(ans_path_order_ids, start=1)}\n",
        "df['dlvr_seq_num'] = df['order_id'].map(order_id_sequence)\n",
        "df = df.drop(df.index[0]).reset_index(drop=True)\n",
        "df['dlvr_seq_num'] = df['dlvr_seq_num'].astype(int)\n",
        "print(df)\n",
        "df.to_csv('part_a_output_dataset_1.csv',index=False)"
      ],
      "metadata": {
        "colab": {
          "base_uri": "https://localhost:8080/"
        },
        "id": "WbBChjspGor2",
        "outputId": "64e1cb77-6d55-4054-b7ff-619f57f35a7d"
      },
      "execution_count": 37,
      "outputs": [
        {
          "output_type": "stream",
          "name": "stdout",
          "text": [
            "The cost of most efficient tour =  4.17\n"
          ]
        }
      ]
    },
    {
      "cell_type": "code",
      "source": [
        "for k in range(4):\n",
        "    df=pd.read_csv(f'part_a_input_dataset_{k+1}.csv')\n",
        "    starting_node = pd.DataFrame({'lng': [df[\"depot_lng\"].iloc[0]], 'lat': [df[\"depot_lat\"].iloc[0]]})\n",
        "\n",
        "    df = pd.concat([starting_node, df]).reset_index(drop=True)\n",
        "    adjacency_list = {}\n",
        "\n",
        "    for i in range(len(df)):\n",
        "        distances = []\n",
        "        for j in range(len(df)):\n",
        "            if i != j:\n",
        "                distance = haversine(df.iloc[i]['lat'], df.iloc[i]['lng'], df.iloc[j]['lat'], df.iloc[j]['lng'])\n",
        "                distances.append(distance)\n",
        "            else:\n",
        "                distances.append(0)\n",
        "        adjacency_list[i] = distances\n",
        "\n",
        "    n=len(adjacency_list)-1\n",
        "    memo = [[-1]*(1 << (n+1)) for _ in range(n+1)]\n",
        "    path = [[[] for _ in range(1 << (n+1))] for _ in range(n+1)]\n",
        "    ans = 10**9\n",
        "    ans_path = []\n",
        "    for i in range(1, n+1):\n",
        "        new_ans, new_path = fun(i, (1 << (n+1))-1)\n",
        "        new_ans += adjacency_list[i][1]\n",
        "        if new_ans < ans:\n",
        "            ans = new_ans\n",
        "            ans_path = new_path + [1]\n",
        "    # print(f\"For dataset {k+1}\")\n",
        "    # print(\"The cost of most efficient tour = \" + str(ans))\n",
        "    # print(\"The sequence of delivery is: \" + str(ans_path)+\"\\n\\n\")\n",
        "    ans_path_order_ids = df['order_id'].iloc[ans_path].tolist()\n",
        "    order_id_sequence = {order_id: index-1 for index, order_id in enumerate(ans_path_order_ids, start=1)}\n",
        "    df['dlvr_seq_num'] = df['order_id'].map(order_id_sequence)\n",
        "    df = df.drop(df.index[0]).reset_index(drop=True)\n",
        "    df['dlvr_seq_num'] = df['dlvr_seq_num'].astype(int)\n",
        "    print(df)\n",
        "    df.to_csv(f'part_a_output_dataset_{k+1}.csv',index=False)"
      ],
      "metadata": {
        "colab": {
          "base_uri": "https://localhost:8080/"
        },
        "id": "8-VckemAGxCL",
        "outputId": "47527c8a-ad7c-48b2-a7a2-8a97c87e4362"
      },
      "execution_count": 34,
      "outputs": [
        {
          "output_type": "stream",
          "name": "stdout",
          "text": [
            "         lng       lat   order_id  depot_lat  depot_lng  dlvr_seq_num\n",
            "0  126.55716  43.81811  2349221.0    43.8121   126.5669             5\n",
            "1  126.54845  43.82043  1720666.0    43.8121   126.5669             4\n",
            "2  126.56893  43.81414   935442.0    43.8121   126.5669             1\n",
            "3  126.57000  43.81954  2119726.0    43.8121   126.5669             2\n",
            "4  126.56574  43.82126  1898768.0    43.8121   126.5669             3\n",
            "         lng       lat   order_id  depot_lat  depot_lng  dlvr_seq_num\n",
            "0  126.55716  43.81811  2349221.0    43.8121   126.5669            10\n",
            "1  126.54845  43.82043  1720666.0    43.8121   126.5669             2\n",
            "2  126.56893  43.81414   935442.0    43.8121   126.5669             9\n",
            "3  126.57000  43.81954  2119726.0    43.8121   126.5669             8\n",
            "4  126.56574  43.82126  1898768.0    43.8121   126.5669             5\n",
            "5  126.53659  43.80667  2977295.0    43.8121   126.5669             1\n",
            "6  126.55001  43.82377    98750.0    43.8121   126.5669             3\n",
            "7  126.56403  43.82447  1967889.0    43.8121   126.5669             4\n",
            "8  126.57915  43.82581   512980.0    43.8121   126.5669             7\n",
            "9  126.56808  43.82254  1163945.0    43.8121   126.5669             6\n",
            "          lng       lat   order_id  depot_lat  depot_lng  dlvr_seq_num\n",
            "0   126.55716  43.81811  2349221.0    43.8121   126.5669            15\n",
            "1   126.54845  43.82043  1720666.0    43.8121   126.5669            14\n",
            "2   126.56893  43.81414   935442.0    43.8121   126.5669             5\n",
            "3   126.57000  43.81954  2119726.0    43.8121   126.5669             6\n",
            "4   126.56574  43.82126  1898768.0    43.8121   126.5669            10\n",
            "5   126.53659  43.80667  2977295.0    43.8121   126.5669             2\n",
            "6   126.55001  43.82377    98750.0    43.8121   126.5669            13\n",
            "7   126.56403  43.82447  1967889.0    43.8121   126.5669            11\n",
            "8   126.57915  43.82581   512980.0    43.8121   126.5669             7\n",
            "9   126.56808  43.82254  1163945.0    43.8121   126.5669             9\n",
            "10  126.55094  43.81513  4312189.0    43.8121   126.5669             1\n",
            "11  126.57607  43.82599  2918628.0    43.8121   126.5669             8\n",
            "12  126.55480  43.80953  2752609.0    43.8121   126.5669             3\n",
            "13  126.55272  43.82785   689448.0    43.8121   126.5669            12\n",
            "14  126.59201  43.77702   619869.0    43.8121   126.5669             4\n",
            "          lng       lat   order_id  depot_lat  depot_lng  dlvr_seq_num\n",
            "0   126.55716  43.81811  2349221.0    43.8121   126.5669            20\n",
            "1   126.54845  43.82043  1720666.0    43.8121   126.5669            16\n",
            "2   126.56893  43.81414   935442.0    43.8121   126.5669             2\n",
            "3   126.57000  43.81954  2119726.0    43.8121   126.5669             3\n",
            "4   126.56574  43.82126  1898768.0    43.8121   126.5669             4\n",
            "5   126.53659  43.80667  2977295.0    43.8121   126.5669            14\n",
            "6   126.55001  43.82377    98750.0    43.8121   126.5669            18\n",
            "7   126.56403  43.82447  1967889.0    43.8121   126.5669             5\n",
            "8   126.57915  43.82581   512980.0    43.8121   126.5669             8\n",
            "9   126.56808  43.82254  1163945.0    43.8121   126.5669             6\n",
            "10  126.55094  43.81513  4312189.0    43.8121   126.5669            15\n",
            "11  126.57607  43.82599  2918628.0    43.8121   126.5669             7\n",
            "12  126.55480  43.80953  2752609.0    43.8121   126.5669            13\n",
            "13  126.55272  43.82785   689448.0    43.8121   126.5669            19\n",
            "14  126.59201  43.77702   619869.0    43.8121   126.5669            10\n",
            "15  126.56633  43.80800   323232.0    43.8121   126.5669            11\n",
            "16  126.55921  43.81791  3143754.0    43.8121   126.5669             1\n",
            "17  126.56021  43.80409  2686188.0    43.8121   126.5669            12\n",
            "18  126.59199  43.82113    66954.0    43.8121   126.5669             9\n",
            "19  126.54723  43.82336  1331947.0    43.8121   126.5669            17\n"
          ]
        }
      ]
    },
    {
      "cell_type": "code",
      "source": [
        "route_df = pd.DataFrame(columns=['Dataset', 'Best Route Distance'])\n",
        "for k in range(4):\n",
        "    df=pd.read_csv(f'part_a_input_dataset_{k+1}.csv')\n",
        "    starting_node = pd.DataFrame({'lng': [df[\"depot_lng\"].iloc[0]], 'lat': [df[\"depot_lat\"].iloc[0]]})\n",
        "\n",
        "    df = pd.concat([starting_node, df]).reset_index(drop=True)\n",
        "    adjacency_list = {}\n",
        "\n",
        "    for i in range(len(df)):\n",
        "        distances = []\n",
        "        for j in range(len(df)):\n",
        "            if i != j:\n",
        "                distance = haversine(df.iloc[i]['lat'], df.iloc[i]['lng'], df.iloc[j]['lat'], df.iloc[j]['lng'])\n",
        "                distances.append(distance)\n",
        "            else:\n",
        "                distances.append(0)\n",
        "        adjacency_list[i] = distances\n",
        "\n",
        "    n=len(adjacency_list)-1\n",
        "    memo = [[-1]*(1 << (n+1)) for _ in range(n+1)]\n",
        "    path = [[[] for _ in range(1 << (n+1))] for _ in range(n+1)]\n",
        "    ans = 10**9\n",
        "    ans_path = []\n",
        "    for i in range(1, n+1):\n",
        "        new_ans, new_path = fun(i, (1 << (n+1))-1)\n",
        "        new_ans += adjacency_list[i][1]\n",
        "        if new_ans < ans:\n",
        "            ans = new_ans\n",
        "            ans_path = new_path + [1]\n",
        "    ans_path_order_ids = df['order_id'].iloc[ans_path].tolist()\n",
        "    order_id_sequence = {order_id: index-1 for index, order_id in enumerate(ans_path_order_ids, start=1)}\n",
        "    df['dlvr_seq_num'] = df['order_id'].map(order_id_sequence)\n",
        "    df = df.drop(df.index[0]).reset_index(drop=True)\n",
        "    df['dlvr_seq_num'] = df['dlvr_seq_num'].astype(int)\n",
        "    df.to_csv(f'part_a_output_dataset_{k+1}.csv',index=False)\n",
        "    route_df = route_df.append({'Dataset': f'part_a_input_dataset_{k+1}', 'Best Route Distance': str(ans) + \" kms\"}, ignore_index=True)\n",
        "\n",
        "route_df.to_csv('Best_Route_Distances.csv', index=False)"
      ],
      "metadata": {
        "colab": {
          "base_uri": "https://localhost:8080/"
        },
        "id": "a_ZaECQSLKyk",
        "outputId": "0b95cda9-b98f-461d-bbfb-3681cfa7602d"
      },
      "execution_count": 39,
      "outputs": [
        {
          "output_type": "stream",
          "name": "stderr",
          "text": [
            "<ipython-input-39-4769d669c7a9>:36: FutureWarning: The frame.append method is deprecated and will be removed from pandas in a future version. Use pandas.concat instead.\n",
            "  route_df = route_df.append({'Dataset': f'part_a_input_dataset_{k+1}', 'Best Route Distance': str(ans) + \" kms\"}, ignore_index=True)\n",
            "<ipython-input-39-4769d669c7a9>:36: FutureWarning: The frame.append method is deprecated and will be removed from pandas in a future version. Use pandas.concat instead.\n",
            "  route_df = route_df.append({'Dataset': f'part_a_input_dataset_{k+1}', 'Best Route Distance': str(ans) + \" kms\"}, ignore_index=True)\n",
            "<ipython-input-39-4769d669c7a9>:36: FutureWarning: The frame.append method is deprecated and will be removed from pandas in a future version. Use pandas.concat instead.\n",
            "  route_df = route_df.append({'Dataset': f'part_a_input_dataset_{k+1}', 'Best Route Distance': str(ans) + \" kms\"}, ignore_index=True)\n",
            "<ipython-input-39-4769d669c7a9>:36: FutureWarning: The frame.append method is deprecated and will be removed from pandas in a future version. Use pandas.concat instead.\n",
            "  route_df = route_df.append({'Dataset': f'part_a_input_dataset_{k+1}', 'Best Route Distance': str(ans) + \" kms\"}, ignore_index=True)\n"
          ]
        }
      ]
    },
    {
      "cell_type": "code",
      "source": [],
      "metadata": {
        "id": "mT8LGgF4Qqmu"
      },
      "execution_count": null,
      "outputs": []
    }
  ]
}